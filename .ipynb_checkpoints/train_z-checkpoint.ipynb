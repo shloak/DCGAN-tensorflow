{
 "cells": [
  {
   "cell_type": "code",
   "execution_count": 1,
   "metadata": {},
   "outputs": [
    {
     "name": "stdout",
     "output_type": "stream",
     "text": [
      "{}\n",
      "---------\n",
      "Variables: name (type shape) [size]\n",
      "---------\n",
      "generator/g_h0_lin/Matrix:0 (float32_ref 100x8192) [819200, bytes: 3276800]\n",
      "generator/g_h0_lin/bias:0 (float32_ref 8192) [8192, bytes: 32768]\n",
      "generator/g_bn0/beta:0 (float32_ref 512) [512, bytes: 2048]\n",
      "generator/g_bn0/gamma:0 (float32_ref 512) [512, bytes: 2048]\n",
      "generator/g_h1/w:0 (float32_ref 5x5x256x512) [3276800, bytes: 13107200]\n",
      "generator/g_h1/biases:0 (float32_ref 256) [256, bytes: 1024]\n",
      "generator/g_bn1/beta:0 (float32_ref 256) [256, bytes: 1024]\n",
      "generator/g_bn1/gamma:0 (float32_ref 256) [256, bytes: 1024]\n",
      "generator/g_h2/w:0 (float32_ref 5x5x128x256) [819200, bytes: 3276800]\n",
      "generator/g_h2/biases:0 (float32_ref 128) [128, bytes: 512]\n",
      "generator/g_bn2/beta:0 (float32_ref 128) [128, bytes: 512]\n",
      "generator/g_bn2/gamma:0 (float32_ref 128) [128, bytes: 512]\n",
      "generator/g_h3/w:0 (float32_ref 5x5x64x128) [204800, bytes: 819200]\n",
      "generator/g_h3/biases:0 (float32_ref 64) [64, bytes: 256]\n",
      "generator/g_bn3/beta:0 (float32_ref 64) [64, bytes: 256]\n",
      "generator/g_bn3/gamma:0 (float32_ref 64) [64, bytes: 256]\n",
      "generator/g_h4/w:0 (float32_ref 5x5x3x64) [4800, bytes: 19200]\n",
      "generator/g_h4/biases:0 (float32_ref 3) [3, bytes: 12]\n",
      "discriminator/d_h0_conv/w:0 (float32_ref 5x5x3x64) [4800, bytes: 19200]\n",
      "discriminator/d_h0_conv/biases:0 (float32_ref 64) [64, bytes: 256]\n",
      "discriminator/d_h1_conv/w:0 (float32_ref 5x5x64x128) [204800, bytes: 819200]\n",
      "discriminator/d_h1_conv/biases:0 (float32_ref 128) [128, bytes: 512]\n",
      "discriminator/d_bn1/beta:0 (float32_ref 128) [128, bytes: 512]\n",
      "discriminator/d_bn1/gamma:0 (float32_ref 128) [128, bytes: 512]\n",
      "discriminator/d_h2_conv/w:0 (float32_ref 5x5x128x256) [819200, bytes: 3276800]\n",
      "discriminator/d_h2_conv/biases:0 (float32_ref 256) [256, bytes: 1024]\n",
      "discriminator/d_bn2/beta:0 (float32_ref 256) [256, bytes: 1024]\n",
      "discriminator/d_bn2/gamma:0 (float32_ref 256) [256, bytes: 1024]\n",
      "discriminator/d_h3_conv/w:0 (float32_ref 5x5x256x512) [3276800, bytes: 13107200]\n",
      "discriminator/d_h3_conv/biases:0 (float32_ref 512) [512, bytes: 2048]\n",
      "discriminator/d_bn3/beta:0 (float32_ref 512) [512, bytes: 2048]\n",
      "discriminator/d_bn3/gamma:0 (float32_ref 512) [512, bytes: 2048]\n",
      "discriminator/d_h4_lin/Matrix:0 (float32_ref 8192x1) [8192, bytes: 32768]\n",
      "discriminator/d_h4_lin/bias:0 (float32_ref 1) [1, bytes: 4]\n",
      "Total size of variables: 9451908\n",
      "Total bytes of variables: 37807632\n",
      " [*] Reading checkpoints...\n",
      "INFO:tensorflow:Restoring parameters from checkpoint\\celebA_64_64_64\\DCGAN.model-88502\n",
      " [*] Success to read DCGAN.model-88502\n"
     ]
    }
   ],
   "source": [
    "import os\n",
    "import scipy.misc\n",
    "import numpy as np\n",
    "\n",
    "from forward_model import DCGAN\n",
    "from utils import pp, visualize, to_json, show_all_variables\n",
    "\n",
    "import tensorflow as tf\n",
    "\n",
    "flags = tf.app.flags\n",
    "flags.DEFINE_integer(\"epoch\", 25, \"Epoch to train [25]\")\n",
    "flags.DEFINE_float(\"learning_rate\", 0.0002, \"Learning rate of for adam [0.0002]\")\n",
    "flags.DEFINE_float(\"beta1\", 0.5, \"Momentum term of adam [0.5]\")\n",
    "flags.DEFINE_integer(\"train_size\", np.inf, \"The size of train images [np.inf]\")\n",
    "flags.DEFINE_integer(\"batch_size\", 64, \"The size of batch images [64]\")\n",
    "flags.DEFINE_integer(\"input_height\", 108, \"The size of image to use (will be center cropped). [108]\")\n",
    "flags.DEFINE_integer(\"input_width\", None, \"The size of image to use (will be center cropped). If None, same value as input_height [None]\")\n",
    "flags.DEFINE_integer(\"output_height\", 64, \"The size of the output images to produce [64]\")\n",
    "flags.DEFINE_integer(\"output_width\", None, \"The size of the output images to produce. If None, same value as output_height [None]\")\n",
    "flags.DEFINE_string(\"dataset\", \"celebA\", \"The name of dataset [celebA, mnist, lsun]\")\n",
    "flags.DEFINE_string(\"input_fname_pattern\", \"*.jpg\", \"Glob pattern of filename of input images [*]\")\n",
    "flags.DEFINE_string(\"checkpoint_dir\", \"checkpoint\", \"Directory name to save the checkpoints [checkpoint]\")\n",
    "flags.DEFINE_string(\"sample_dir\", \"samples\", \"Directory name to save the image samples [samples]\")\n",
    "flags.DEFINE_boolean(\"train\", False, \"True for training, False for testing [False]\")\n",
    "flags.DEFINE_boolean(\"crop\", True, \"True for training, False for testing [False]\")\n",
    "flags.DEFINE_boolean(\"visualize\", False, \"True for visualizing, False for nothing [False]\")\n",
    "FLAGS = flags.FLAGS\n",
    "\n",
    "pp.pprint(flags.FLAGS.__flags)\n",
    "\n",
    "if FLAGS.input_width is None:\n",
    "    FLAGS.input_width = FLAGS.input_height\n",
    "if FLAGS.output_width is None:\n",
    "    FLAGS.output_width = FLAGS.output_height\n",
    "\n",
    "if not os.path.exists(FLAGS.checkpoint_dir):\n",
    "    os.makedirs(FLAGS.checkpoint_dir)\n",
    "if not os.path.exists(FLAGS.sample_dir):\n",
    "    os.makedirs(FLAGS.sample_dir)\n",
    "\n",
    "#gpu_options = tf.GPUOptions(per_process_gpu_memory_fraction=0.333)\n",
    "run_config = tf.ConfigProto()\n",
    "run_config.gpu_options.allow_growth=True\n",
    "\n",
    "with tf.Session(config=run_config) as sess:\n",
    "  dcgan = DCGAN(\n",
    "      sess,\n",
    "      input_width=FLAGS.input_width,\n",
    "      input_height=FLAGS.input_height,\n",
    "      output_width=FLAGS.output_width,\n",
    "      output_height=FLAGS.output_height,\n",
    "      batch_size=FLAGS.batch_size,\n",
    "      sample_num=FLAGS.batch_size,\n",
    "      dataset_name=FLAGS.dataset,\n",
    "      input_fname_pattern=FLAGS.input_fname_pattern,\n",
    "      crop=FLAGS.crop,\n",
    "      checkpoint_dir=FLAGS.checkpoint_dir,\n",
    "      sample_dir=FLAGS.sample_dir)\n",
    "\n",
    "show_all_variables()\n",
    "\n",
    "if not dcgan.load(FLAGS.checkpoint_dir)[0]:\n",
    "  raise Exception(\"[!] Train a model first, then run test mode\")\n",
    "      \n",
    "\n",
    "#OPTION = 0\n",
    "#visualize(sess, dcgan, FLAGS, OPTION)\n"
   ]
  },
  {
   "cell_type": "code",
   "execution_count": 2,
   "metadata": {
    "collapsed": true
   },
   "outputs": [],
   "source": [
    "from glob import glob\n",
    "from ops import *\n",
    "from utils import *\n",
    "\n",
    "data = glob(\"./data/celebA/*.jpg\")\n",
    "\n",
    "\n",
    "sample_files = data[0:64] #change to 64 images\n",
    "sample = [get_image(sample_file, input_height=dcgan.input_height,\n",
    "                    input_width=dcgan.input_width,\n",
    "                    resize_height=dcgan.output_height,\n",
    "                    resize_width=dcgan.output_width,\n",
    "                    crop=dcgan.crop,\n",
    "                    grayscale=dcgan.grayscale) for sample_file in sample_files]"
   ]
  },
  {
   "cell_type": "code",
   "execution_count": 3,
   "metadata": {
    "collapsed": true
   },
   "outputs": [],
   "source": [
    "import matplotlib.pyplot as plt\n",
    "\n",
    "%matplotlib inline"
   ]
  },
  {
   "cell_type": "code",
   "execution_count": 4,
   "metadata": {},
   "outputs": [
    {
     "data": {
      "text/plain": [
       "<matplotlib.image.AxesImage at 0x24dcd637208>"
      ]
     },
     "execution_count": 4,
     "metadata": {},
     "output_type": "execute_result"
    },
    {
     "data": {
      "image/png": "[encoded data removed]",
      "text/plain": [
       "<matplotlib.figure.Figure at 0x24dd9142358>"
      ]
     },
     "metadata": {},
     "output_type": "display_data"
    }
   ],
   "source": [
    "plt.imshow((sample[0] + 1)/2)"
   ]
  },
  {
   "cell_type": "code",
   "execution_count": 5,
   "metadata": {},
   "outputs": [
    {
     "name": "stdout",
     "output_type": "stream",
     "text": [
      "12288\n"
     ]
    }
   ],
   "source": [
    "v = np.reshape(sample, (64, 64*64*3))\n",
    "n = v.shape[1]\n",
    "print(n)"
   ]
  },
  {
   "cell_type": "code",
   "execution_count": 6,
   "metadata": {
    "collapsed": true
   },
   "outputs": [],
   "source": [
    "m = 1000\n",
    "A = np.random.randn(n, m).astype('float32')"
   ]
  },
  {
   "cell_type": "code",
   "execution_count": 7,
   "metadata": {
    "collapsed": true
   },
   "outputs": [],
   "source": [
    "y = np.dot(v, A) # need to change from vector to matrix"
   ]
  },
  {
   "cell_type": "code",
   "execution_count": 8,
   "metadata": {
    "collapsed": true
   },
   "outputs": [],
   "source": [
    "\n",
    "y_placeholder = tf.placeholder(tf.float32,[None,m])\n",
    "\n",
    "our_loss = tf.reduce_mean( tf.reduce_sum( (tf.matmul(tf.reshape(dcgan.G, [64, -1]) , A) - y_placeholder)**2 ) ) #need to change from vector to matrix for 64 "
   ]
  },
  {
   "cell_type": "code",
   "execution_count": null,
   "metadata": {},
   "outputs": [
    {
     "name": "stdout",
     "output_type": "stream",
     "text": [
      "iteration 0\n",
      "2.48703e+08\n",
      "iteration 1\n",
      "2.37899e+08\n",
      "iteration 2\n",
      "2.35379e+08\n",
      "iteration 3\n",
      "2.33108e+08\n",
      "iteration 4\n",
      "2.31046e+08\n",
      "iteration 5\n",
      "2.29166e+08\n",
      "iteration 6\n",
      "2.27455e+08\n",
      "iteration 7\n",
      "2.25911e+08\n",
      "iteration 8\n",
      "2.245e+08\n",
      "iteration 9\n",
      "2.23171e+08\n",
      "iteration 10\n",
      "2.21932e+08\n",
      "iteration 11\n",
      "2.20754e+08\n",
      "iteration 12\n",
      "2.19659e+08\n",
      "iteration 13\n",
      "2.18636e+08\n",
      "iteration 14\n",
      "2.17685e+08\n",
      "iteration 15\n",
      "2.16801e+08\n",
      "iteration 16\n",
      "2.15969e+08\n",
      "iteration 17\n",
      "2.15186e+08\n",
      "iteration 18\n",
      "2.1445e+08\n",
      "iteration 19\n",
      "2.13755e+08\n",
      "iteration 20\n",
      "2.13105e+08\n",
      "iteration 21\n",
      "2.12491e+08\n",
      "iteration 22\n",
      "2.11902e+08\n",
      "iteration 23\n",
      "2.1135e+08\n",
      "iteration 24\n",
      "2.10837e+08\n",
      "iteration 25\n",
      "2.10345e+08\n",
      "iteration 26\n",
      "2.09876e+08\n",
      "iteration 27\n",
      "2.0943e+08\n",
      "iteration 28\n",
      "2.09006e+08\n",
      "iteration 29\n",
      "2.08601e+08\n",
      "iteration 30\n",
      "2.08211e+08\n",
      "iteration 31\n",
      "2.07833e+08\n",
      "iteration 32\n",
      "2.07464e+08\n",
      "iteration 33\n",
      "2.07114e+08\n",
      "iteration 34\n",
      "2.06781e+08\n",
      "iteration 35\n",
      "2.06461e+08\n",
      "iteration 36\n",
      "2.06151e+08\n",
      "iteration 37\n",
      "2.05852e+08\n",
      "iteration 38\n",
      "2.05557e+08\n",
      "iteration 39\n",
      "2.05272e+08\n",
      "iteration 40\n",
      "2.05e+08\n",
      "iteration 41\n",
      "2.04739e+08\n",
      "iteration 42\n",
      "2.04485e+08\n",
      "iteration 43\n",
      "2.04241e+08\n",
      "iteration 44\n",
      "2.04002e+08\n",
      "iteration 45\n",
      "2.03775e+08\n",
      "iteration 46\n",
      "2.03557e+08\n",
      "iteration 47\n",
      "2.03345e+08\n",
      "iteration 48\n",
      "2.03139e+08\n",
      "iteration 49\n",
      "2.02934e+08\n",
      "iteration 50\n",
      "2.02731e+08\n",
      "iteration 51\n",
      "2.02534e+08\n",
      "iteration 52\n",
      "2.02341e+08\n",
      "iteration 53\n",
      "2.02157e+08\n",
      "iteration 54\n",
      "2.01977e+08\n",
      "iteration 55\n",
      "2.01799e+08\n",
      "iteration 56\n",
      "2.01627e+08\n",
      "iteration 57\n",
      "2.01463e+08\n",
      "iteration 58\n",
      "2.01303e+08\n",
      "iteration 59\n",
      "2.01148e+08\n",
      "iteration 60\n",
      "2.00997e+08\n",
      "iteration 61\n",
      "2.00849e+08\n",
      "iteration 62\n",
      "2.00704e+08\n",
      "iteration 63\n",
      "2.00561e+08\n",
      "iteration 64\n",
      "2.00423e+08\n",
      "iteration 65\n",
      "2.00288e+08\n",
      "iteration 66\n",
      "2.00156e+08\n",
      "iteration 67\n",
      "2.00028e+08\n",
      "iteration 68\n",
      "1.99903e+08\n",
      "iteration 69\n",
      "1.9978e+08\n",
      "iteration 70\n",
      "1.99661e+08\n",
      "iteration 71\n",
      "1.99544e+08\n",
      "iteration 72\n",
      "1.9943e+08\n",
      "iteration 73\n",
      "1.99317e+08\n",
      "iteration 74\n",
      "1.99206e+08\n",
      "iteration 75\n",
      "1.99101e+08\n",
      "iteration 76\n",
      "1.98997e+08\n",
      "iteration 77\n",
      "1.98893e+08\n",
      "iteration 78\n"
     ]
    }
   ],
   "source": [
    "#z_optim = tf.train.AdamOptimizer(0.0002, 0.5).minimize(our_loss, var_list=dcgan.z)\n",
    "    \n",
    "grad = tf.gradients(our_loss, dcgan.z)\n",
    "\n",
    "z_0 = np.random.uniform(-0.5, 0.5, size=(64 , 100))\n",
    "\n",
    "prev2 = 9999999999\n",
    "prev1 = 999999999\n",
    "\n",
    "rate = 0.0002\n",
    "count = 0\n",
    "\n",
    "errs = []\n",
    "    \n",
    "with tf.Session() as sess:\n",
    "    try:\n",
    "      tf.global_variables_initializer().run()\n",
    "    except:\n",
    "      tf.initialize_all_variables().run()\n",
    "    \n",
    "    while prev1 < prev2 or rate > 0.0000000002: # run until error stops decreasing or reaches threshhold, then print result at that point\n",
    "        print('iteration {}'.format(count))\n",
    "        a, closs, b = sess.run([grad, our_loss, dcgan.G],\n",
    "            feed_dict={ \n",
    "              dcgan.z: z_0,\n",
    "              y_placeholder: y\n",
    "            })\n",
    "        count += 1\n",
    "        prev2, prev1 = prev1, closs\n",
    "        if count % 100 == 0:\n",
    "            rate /= 2\n",
    "        print(closs)\n",
    "        errs.append(closs)\n",
    "        z_0 = z_0 - rate*a[0]\n",
    "    "
   ]
  },
  {
   "cell_type": "code",
   "execution_count": 40,
   "metadata": {},
   "outputs": [
    {
     "name": "stdout",
     "output_type": "stream",
     "text": [
      "[ -2477.11230469    280.97924805 -11534.72753906   4536.99951172\n",
      "  -2294.55273438  22701.046875    14355.41601562 -15493.83007812\n",
      " -11278.6640625   16141.70019531   3747.09179688   4874.39892578\n",
      "  -8687.39648438   4242.33154297 -15958.41992188 -13241.55859375\n",
      "  11198.96386719  -1929.80395508   -796.63891602   8358.67675781\n",
      "  14158.328125    15158.82226562  -9255.11328125 -11830.45214844\n",
      "    490.80712891  15872.32226562  -1127.60229492  18418.359375\n",
      "  -4404.77001953   1286.24975586 -24929.71289062   6358.47509766\n",
      " -18425.35546875  -7748.91699219    145.94335938   9440.5703125\n",
      "   6987.99804688  -9432.04296875   8959.36132812   4530.63476562\n",
      " -15128.5078125   -8237.27539062  -9299.02734375  19541.73828125\n",
      " -10077.94726562   8252.45898438  -4782.05371094  -8929.95605469\n",
      "  11629.01953125   6230.64257812  20780.01953125  -9803.50390625\n",
      "  -3133.66064453  -3407.10742188   4655.81347656  -2190.44018555\n",
      "  -4783.796875   -10480.93261719   7334.46044922   5303.22851562\n",
      "   9950.24511719  10946.93164062   2020.45751953   2689.64160156\n",
      "  -4186.69628906  -6915.92480469  -7084.88476562   5958.10546875\n",
      "  12872.31054688  -9328.35742188  25898.70507812   -180.47045898\n",
      "  -7811.14550781   5513.81396484  -2472.69238281   6307.109375\n",
      "  11555.90039062   4164.8671875    2665.25097656   9722.35058594\n",
      "  -9807.96972656   -138.6105957    4179.24804688  -1203.45141602\n",
      "  -6279.15917969    -29.18481445  -2850.94848633   -703.86242676\n",
      "  -1279.6751709   -4387.94628906 -10388.43359375  -1700.76342773\n",
      " -20025.76953125  18541.1171875   -3899.35986328  -4157.51123047\n",
      "   5457.87011719   3415.90771484  -5179.03125      5045.89990234]\n",
      "(64, 100)\n"
     ]
    },
    {
     "data": {
      "text/plain": [
       "<matplotlib.image.AxesImage at 0x25b06a045c0>"
      ]
     },
     "execution_count": 40,
     "metadata": {},
     "output_type": "execute_result"
    },
    {
     "data": {
      "image/png": "[encoded data removed]",
      "text/plain": [
       "<matplotlib.figure.Figure at 0x25b06385588>"
      ]
     },
     "metadata": {},
     "output_type": "display_data"
    }
   ],
   "source": [
    "print(a[0][0])\n",
    "print(a[0].shape)\n",
    "plt.imshow(b[0])"
   ]
  },
  {
   "cell_type": "code",
   "execution_count": null,
   "metadata": {
    "collapsed": true
   },
   "outputs": [],
   "source": []
  }
 ],
 "metadata": {
  "kernelspec": {
   "display_name": "Python 3",
   "language": "python",
   "name": "python3"
  },
  "language_info": {
   "codemirror_mode": {
    "name": "ipython",
    "version": 3
   },
   "file_extension": ".py",
   "mimetype": "text/x-python",
   "name": "python",
   "nbconvert_exporter": "python",
   "pygments_lexer": "ipython3",
   "version": "3.5.2"
  }
 },
 "nbformat": 4,
 "nbformat_minor": 2
}
